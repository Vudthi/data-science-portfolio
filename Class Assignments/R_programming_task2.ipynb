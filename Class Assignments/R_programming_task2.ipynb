{
 "cells": [
  {
   "cell_type": "markdown",
   "metadata": {},
   "source": [
    "1. Object x <-1:15 \n",
    "Construct a 5x3 matrix for the value of x. "
   ]
  },
  {
   "cell_type": "code",
   "execution_count": 1,
   "metadata": {},
   "outputs": [
    {
     "data": {
      "text/html": [
       "<table>\n",
       "<caption>A matrix: 5 × 3 of type int</caption>\n",
       "<tbody>\n",
       "\t<tr><td>1</td><td> 6</td><td>11</td></tr>\n",
       "\t<tr><td>2</td><td> 7</td><td>12</td></tr>\n",
       "\t<tr><td>3</td><td> 8</td><td>13</td></tr>\n",
       "\t<tr><td>4</td><td> 9</td><td>14</td></tr>\n",
       "\t<tr><td>5</td><td>10</td><td>15</td></tr>\n",
       "</tbody>\n",
       "</table>\n"
      ],
      "text/latex": [
       "A matrix: 5 × 3 of type int\n",
       "\\begin{tabular}{lll}\n",
       "\t 1 &  6 & 11\\\\\n",
       "\t 2 &  7 & 12\\\\\n",
       "\t 3 &  8 & 13\\\\\n",
       "\t 4 &  9 & 14\\\\\n",
       "\t 5 & 10 & 15\\\\\n",
       "\\end{tabular}\n"
      ],
      "text/markdown": [
       "\n",
       "A matrix: 5 × 3 of type int\n",
       "\n",
       "| 1 |  6 | 11 |\n",
       "| 2 |  7 | 12 |\n",
       "| 3 |  8 | 13 |\n",
       "| 4 |  9 | 14 |\n",
       "| 5 | 10 | 15 |\n",
       "\n"
      ],
      "text/plain": [
       "     [,1] [,2] [,3]\n",
       "[1,] 1     6   11  \n",
       "[2,] 2     7   12  \n",
       "[3,] 3     8   13  \n",
       "[4,] 4     9   14  \n",
       "[5,] 5    10   15  "
      ]
     },
     "metadata": {},
     "output_type": "display_data"
    }
   ],
   "source": [
    "x <- 1:15\n",
    "matrix(x, nrow=5, ncol=3)"
   ]
  },
  {
   "cell_type": "markdown",
   "metadata": {},
   "source": [
    "2. Write a program to generate the following 4x4 matrix\n",
    "0 0 0 0 \n",
    "0 0 0 0 \n",
    "0 0 0 0 "
   ]
  },
  {
   "cell_type": "code",
   "execution_count": 2,
   "metadata": {},
   "outputs": [
    {
     "data": {
      "text/html": [
       "<table>\n",
       "<caption>A matrix: 4 × 4 of type dbl</caption>\n",
       "<tbody>\n",
       "\t<tr><td>0</td><td>0</td><td>0</td><td>0</td></tr>\n",
       "\t<tr><td>0</td><td>0</td><td>0</td><td>0</td></tr>\n",
       "\t<tr><td>0</td><td>0</td><td>0</td><td>0</td></tr>\n",
       "\t<tr><td>0</td><td>0</td><td>0</td><td>0</td></tr>\n",
       "</tbody>\n",
       "</table>\n"
      ],
      "text/latex": [
       "A matrix: 4 × 4 of type dbl\n",
       "\\begin{tabular}{llll}\n",
       "\t 0 & 0 & 0 & 0\\\\\n",
       "\t 0 & 0 & 0 & 0\\\\\n",
       "\t 0 & 0 & 0 & 0\\\\\n",
       "\t 0 & 0 & 0 & 0\\\\\n",
       "\\end{tabular}\n"
      ],
      "text/markdown": [
       "\n",
       "A matrix: 4 × 4 of type dbl\n",
       "\n",
       "| 0 | 0 | 0 | 0 |\n",
       "| 0 | 0 | 0 | 0 |\n",
       "| 0 | 0 | 0 | 0 |\n",
       "| 0 | 0 | 0 | 0 |\n",
       "\n"
      ],
      "text/plain": [
       "     [,1] [,2] [,3] [,4]\n",
       "[1,] 0    0    0    0   \n",
       "[2,] 0    0    0    0   \n",
       "[3,] 0    0    0    0   \n",
       "[4,] 0    0    0    0   "
      ]
     },
     "metadata": {},
     "output_type": "display_data"
    }
   ],
   "source": [
    "matrix(0, nrow=4, ncol=4)"
   ]
  },
  {
   "cell_type": "markdown",
   "metadata": {},
   "source": [
    "3. The object x<-1:8 \n",
    "Write a program to generate the following 3x8 matrix using \"cbind(),rbind(),rev(),rep()\" \n",
    "1 2 3 4 5 6 7 8 \n",
    "8 7 6 5 4 3 2 1 \n",
    "3 3 3 3 3 3 3 3 "
   ]
  },
  {
   "cell_type": "code",
   "execution_count": 3,
   "metadata": {},
   "outputs": [
    {
     "data": {
      "text/html": [
       "<table>\n",
       "<caption>A matrix: 3 × 8 of type dbl</caption>\n",
       "<tbody>\n",
       "\t<tr><td>1</td><td>2</td><td>3</td><td>4</td><td>5</td><td>6</td><td>7</td><td>8</td></tr>\n",
       "\t<tr><td>8</td><td>7</td><td>6</td><td>5</td><td>4</td><td>3</td><td>2</td><td>1</td></tr>\n",
       "\t<tr><td>3</td><td>3</td><td>3</td><td>3</td><td>3</td><td>3</td><td>3</td><td>3</td></tr>\n",
       "</tbody>\n",
       "</table>\n"
      ],
      "text/latex": [
       "A matrix: 3 × 8 of type dbl\n",
       "\\begin{tabular}{llllllll}\n",
       "\t 1 & 2 & 3 & 4 & 5 & 6 & 7 & 8\\\\\n",
       "\t 8 & 7 & 6 & 5 & 4 & 3 & 2 & 1\\\\\n",
       "\t 3 & 3 & 3 & 3 & 3 & 3 & 3 & 3\\\\\n",
       "\\end{tabular}\n"
      ],
      "text/markdown": [
       "\n",
       "A matrix: 3 × 8 of type dbl\n",
       "\n",
       "| 1 | 2 | 3 | 4 | 5 | 6 | 7 | 8 |\n",
       "| 8 | 7 | 6 | 5 | 4 | 3 | 2 | 1 |\n",
       "| 3 | 3 | 3 | 3 | 3 | 3 | 3 | 3 |\n",
       "\n"
      ],
      "text/plain": [
       "     [,1] [,2] [,3] [,4] [,5] [,6] [,7] [,8]\n",
       "[1,] 1    2    3    4    5    6    7    8   \n",
       "[2,] 8    7    6    5    4    3    2    1   \n",
       "[3,] 3    3    3    3    3    3    3    3   "
      ]
     },
     "metadata": {},
     "output_type": "display_data"
    }
   ],
   "source": [
    "x <- 1:8\n",
    "rbind(unname(x), rev(x), rep(3,8))"
   ]
  },
  {
   "cell_type": "markdown",
   "metadata": {},
   "source": [
    "4. Choose two different(x,y) 4x4 matrix to perform the following arithmetic operations (a). x + y \n",
    "(b). x - y \n",
    "(c). x*y \n",
    "(d). x%*%y \n",
    "(e). Difference between (c) &(d) \n",
    "-> The difference between (c) and (d) is that in (c) each element of x multiplies with each element of y, but in (d) it is a product of two matrices.\n",
    "(f). Inverse of y \n",
    "(g). z<-x/y \n",
    "(h). Transpose of z \n",
    "(i). Diagonal of transpose matrix "
   ]
  },
  {
   "cell_type": "code",
   "execution_count": 5,
   "metadata": {},
   "outputs": [
    {
     "data": {
      "text/html": [
       "<table>\n",
       "<caption>A matrix: 4 × 4 of type int</caption>\n",
       "<tbody>\n",
       "\t<tr><td>1</td><td> 9</td><td>17</td><td>25</td></tr>\n",
       "\t<tr><td>3</td><td>11</td><td>19</td><td>27</td></tr>\n",
       "\t<tr><td>5</td><td>13</td><td>21</td><td>29</td></tr>\n",
       "\t<tr><td>7</td><td>15</td><td>23</td><td>31</td></tr>\n",
       "</tbody>\n",
       "</table>\n"
      ],
      "text/latex": [
       "A matrix: 4 × 4 of type int\n",
       "\\begin{tabular}{llll}\n",
       "\t 1 &  9 & 17 & 25\\\\\n",
       "\t 3 & 11 & 19 & 27\\\\\n",
       "\t 5 & 13 & 21 & 29\\\\\n",
       "\t 7 & 15 & 23 & 31\\\\\n",
       "\\end{tabular}\n"
      ],
      "text/markdown": [
       "\n",
       "A matrix: 4 × 4 of type int\n",
       "\n",
       "| 1 |  9 | 17 | 25 |\n",
       "| 3 | 11 | 19 | 27 |\n",
       "| 5 | 13 | 21 | 29 |\n",
       "| 7 | 15 | 23 | 31 |\n",
       "\n"
      ],
      "text/plain": [
       "     [,1] [,2] [,3] [,4]\n",
       "[1,] 1     9   17   25  \n",
       "[2,] 3    11   19   27  \n",
       "[3,] 5    13   21   29  \n",
       "[4,] 7    15   23   31  "
      ]
     },
     "metadata": {},
     "output_type": "display_data"
    },
    {
     "data": {
      "text/html": [
       "<table>\n",
       "<caption>A matrix: 4 × 4 of type int</caption>\n",
       "<tbody>\n",
       "\t<tr><td>-1</td><td>-1</td><td>-1</td><td>-1</td></tr>\n",
       "\t<tr><td>-1</td><td>-1</td><td>-1</td><td>-1</td></tr>\n",
       "\t<tr><td>-1</td><td>-1</td><td>-1</td><td>-1</td></tr>\n",
       "\t<tr><td>-1</td><td>-1</td><td>-1</td><td>-1</td></tr>\n",
       "</tbody>\n",
       "</table>\n"
      ],
      "text/latex": [
       "A matrix: 4 × 4 of type int\n",
       "\\begin{tabular}{llll}\n",
       "\t -1 & -1 & -1 & -1\\\\\n",
       "\t -1 & -1 & -1 & -1\\\\\n",
       "\t -1 & -1 & -1 & -1\\\\\n",
       "\t -1 & -1 & -1 & -1\\\\\n",
       "\\end{tabular}\n"
      ],
      "text/markdown": [
       "\n",
       "A matrix: 4 × 4 of type int\n",
       "\n",
       "| -1 | -1 | -1 | -1 |\n",
       "| -1 | -1 | -1 | -1 |\n",
       "| -1 | -1 | -1 | -1 |\n",
       "| -1 | -1 | -1 | -1 |\n",
       "\n"
      ],
      "text/plain": [
       "     [,1] [,2] [,3] [,4]\n",
       "[1,] -1   -1   -1   -1  \n",
       "[2,] -1   -1   -1   -1  \n",
       "[3,] -1   -1   -1   -1  \n",
       "[4,] -1   -1   -1   -1  "
      ]
     },
     "metadata": {},
     "output_type": "display_data"
    },
    {
     "data": {
      "text/html": [
       "<table>\n",
       "<caption>A matrix: 4 × 4 of type int</caption>\n",
       "<tbody>\n",
       "\t<tr><td> 0</td><td>20</td><td> 72</td><td>156</td></tr>\n",
       "\t<tr><td> 2</td><td>30</td><td> 90</td><td>182</td></tr>\n",
       "\t<tr><td> 6</td><td>42</td><td>110</td><td>210</td></tr>\n",
       "\t<tr><td>12</td><td>56</td><td>132</td><td>240</td></tr>\n",
       "</tbody>\n",
       "</table>\n"
      ],
      "text/latex": [
       "A matrix: 4 × 4 of type int\n",
       "\\begin{tabular}{llll}\n",
       "\t  0 & 20 &  72 & 156\\\\\n",
       "\t  2 & 30 &  90 & 182\\\\\n",
       "\t  6 & 42 & 110 & 210\\\\\n",
       "\t 12 & 56 & 132 & 240\\\\\n",
       "\\end{tabular}\n"
      ],
      "text/markdown": [
       "\n",
       "A matrix: 4 × 4 of type int\n",
       "\n",
       "|  0 | 20 |  72 | 156 |\n",
       "|  2 | 30 |  90 | 182 |\n",
       "|  6 | 42 | 110 | 210 |\n",
       "| 12 | 56 | 132 | 240 |\n",
       "\n"
      ],
      "text/plain": [
       "     [,1] [,2] [,3] [,4]\n",
       "[1,]  0   20    72  156 \n",
       "[2,]  2   30    90  182 \n",
       "[3,]  6   42   110  210 \n",
       "[4,] 12   56   132  240 "
      ]
     },
     "metadata": {},
     "output_type": "display_data"
    },
    {
     "data": {
      "text/html": [
       "<table>\n",
       "<caption>A matrix: 4 × 4 of type dbl</caption>\n",
       "<tbody>\n",
       "\t<tr><td> 80</td><td>176</td><td>272</td><td>368</td></tr>\n",
       "\t<tr><td> 90</td><td>202</td><td>314</td><td>426</td></tr>\n",
       "\t<tr><td>100</td><td>228</td><td>356</td><td>484</td></tr>\n",
       "\t<tr><td>110</td><td>254</td><td>398</td><td>542</td></tr>\n",
       "</tbody>\n",
       "</table>\n"
      ],
      "text/latex": [
       "A matrix: 4 × 4 of type dbl\n",
       "\\begin{tabular}{llll}\n",
       "\t  80 & 176 & 272 & 368\\\\\n",
       "\t  90 & 202 & 314 & 426\\\\\n",
       "\t 100 & 228 & 356 & 484\\\\\n",
       "\t 110 & 254 & 398 & 542\\\\\n",
       "\\end{tabular}\n"
      ],
      "text/markdown": [
       "\n",
       "A matrix: 4 × 4 of type dbl\n",
       "\n",
       "|  80 | 176 | 272 | 368 |\n",
       "|  90 | 202 | 314 | 426 |\n",
       "| 100 | 228 | 356 | 484 |\n",
       "| 110 | 254 | 398 | 542 |\n",
       "\n"
      ],
      "text/plain": [
       "     [,1] [,2] [,3] [,4]\n",
       "[1,]  80  176  272  368 \n",
       "[2,]  90  202  314  426 \n",
       "[3,] 100  228  356  484 \n",
       "[4,] 110  254  398  542 "
      ]
     },
     "metadata": {},
     "output_type": "display_data"
    },
    {
     "data": {
      "text/html": [
       "<table>\n",
       "<caption>A matrix: 4 × 4 of type dbl</caption>\n",
       "<tbody>\n",
       "\t<tr><td>-0.285</td><td>-0.1075</td><td> 0.07</td><td> 0.2475</td></tr>\n",
       "\t<tr><td>-0.145</td><td>-0.0525</td><td> 0.04</td><td> 0.1325</td></tr>\n",
       "\t<tr><td>-0.005</td><td> 0.0025</td><td> 0.01</td><td> 0.0175</td></tr>\n",
       "\t<tr><td> 0.135</td><td> 0.0575</td><td>-0.02</td><td>-0.0975</td></tr>\n",
       "</tbody>\n",
       "</table>\n"
      ],
      "text/latex": [
       "A matrix: 4 × 4 of type dbl\n",
       "\\begin{tabular}{llll}\n",
       "\t -0.285 & -0.1075 &  0.07 &  0.2475\\\\\n",
       "\t -0.145 & -0.0525 &  0.04 &  0.1325\\\\\n",
       "\t -0.005 &  0.0025 &  0.01 &  0.0175\\\\\n",
       "\t  0.135 &  0.0575 & -0.02 & -0.0975\\\\\n",
       "\\end{tabular}\n"
      ],
      "text/markdown": [
       "\n",
       "A matrix: 4 × 4 of type dbl\n",
       "\n",
       "| -0.285 | -0.1075 |  0.07 |  0.2475 |\n",
       "| -0.145 | -0.0525 |  0.04 |  0.1325 |\n",
       "| -0.005 |  0.0025 |  0.01 |  0.0175 |\n",
       "|  0.135 |  0.0575 | -0.02 | -0.0975 |\n",
       "\n"
      ],
      "text/plain": [
       "     [,1]   [,2]    [,3]  [,4]   \n",
       "[1,] -0.285 -0.1075  0.07  0.2475\n",
       "[2,] -0.145 -0.0525  0.04  0.1325\n",
       "[3,] -0.005  0.0025  0.01  0.0175\n",
       "[4,]  0.135  0.0575 -0.02 -0.0975"
      ]
     },
     "metadata": {},
     "output_type": "display_data"
    },
    {
     "data": {
      "text/html": [
       "<table>\n",
       "<caption>A matrix: 4 × 4 of type dbl</caption>\n",
       "<tbody>\n",
       "\t<tr><td>0.0000000</td><td>0.8000000</td><td>0.8888889</td><td>0.9230769</td></tr>\n",
       "\t<tr><td>0.5000000</td><td>0.8333333</td><td>0.9000000</td><td>0.9285714</td></tr>\n",
       "\t<tr><td>0.6666667</td><td>0.8571429</td><td>0.9090909</td><td>0.9333333</td></tr>\n",
       "\t<tr><td>0.7500000</td><td>0.8750000</td><td>0.9166667</td><td>0.9375000</td></tr>\n",
       "</tbody>\n",
       "</table>\n"
      ],
      "text/latex": [
       "A matrix: 4 × 4 of type dbl\n",
       "\\begin{tabular}{llll}\n",
       "\t 0.0000000 & 0.8000000 & 0.8888889 & 0.9230769\\\\\n",
       "\t 0.5000000 & 0.8333333 & 0.9000000 & 0.9285714\\\\\n",
       "\t 0.6666667 & 0.8571429 & 0.9090909 & 0.9333333\\\\\n",
       "\t 0.7500000 & 0.8750000 & 0.9166667 & 0.9375000\\\\\n",
       "\\end{tabular}\n"
      ],
      "text/markdown": [
       "\n",
       "A matrix: 4 × 4 of type dbl\n",
       "\n",
       "| 0.0000000 | 0.8000000 | 0.8888889 | 0.9230769 |\n",
       "| 0.5000000 | 0.8333333 | 0.9000000 | 0.9285714 |\n",
       "| 0.6666667 | 0.8571429 | 0.9090909 | 0.9333333 |\n",
       "| 0.7500000 | 0.8750000 | 0.9166667 | 0.9375000 |\n",
       "\n"
      ],
      "text/plain": [
       "     [,1]      [,2]      [,3]      [,4]     \n",
       "[1,] 0.0000000 0.8000000 0.8888889 0.9230769\n",
       "[2,] 0.5000000 0.8333333 0.9000000 0.9285714\n",
       "[3,] 0.6666667 0.8571429 0.9090909 0.9333333\n",
       "[4,] 0.7500000 0.8750000 0.9166667 0.9375000"
      ]
     },
     "metadata": {},
     "output_type": "display_data"
    },
    {
     "data": {
      "text/html": [
       "<table>\n",
       "<caption>A matrix: 4 × 4 of type dbl</caption>\n",
       "<tbody>\n",
       "\t<tr><td>0.0000000</td><td>0.5000000</td><td>0.6666667</td><td>0.7500000</td></tr>\n",
       "\t<tr><td>0.8000000</td><td>0.8333333</td><td>0.8571429</td><td>0.8750000</td></tr>\n",
       "\t<tr><td>0.8888889</td><td>0.9000000</td><td>0.9090909</td><td>0.9166667</td></tr>\n",
       "\t<tr><td>0.9230769</td><td>0.9285714</td><td>0.9333333</td><td>0.9375000</td></tr>\n",
       "</tbody>\n",
       "</table>\n"
      ],
      "text/latex": [
       "A matrix: 4 × 4 of type dbl\n",
       "\\begin{tabular}{llll}\n",
       "\t 0.0000000 & 0.5000000 & 0.6666667 & 0.7500000\\\\\n",
       "\t 0.8000000 & 0.8333333 & 0.8571429 & 0.8750000\\\\\n",
       "\t 0.8888889 & 0.9000000 & 0.9090909 & 0.9166667\\\\\n",
       "\t 0.9230769 & 0.9285714 & 0.9333333 & 0.9375000\\\\\n",
       "\\end{tabular}\n"
      ],
      "text/markdown": [
       "\n",
       "A matrix: 4 × 4 of type dbl\n",
       "\n",
       "| 0.0000000 | 0.5000000 | 0.6666667 | 0.7500000 |\n",
       "| 0.8000000 | 0.8333333 | 0.8571429 | 0.8750000 |\n",
       "| 0.8888889 | 0.9000000 | 0.9090909 | 0.9166667 |\n",
       "| 0.9230769 | 0.9285714 | 0.9333333 | 0.9375000 |\n",
       "\n"
      ],
      "text/plain": [
       "     [,1]      [,2]      [,3]      [,4]     \n",
       "[1,] 0.0000000 0.5000000 0.6666667 0.7500000\n",
       "[2,] 0.8000000 0.8333333 0.8571429 0.8750000\n",
       "[3,] 0.8888889 0.9000000 0.9090909 0.9166667\n",
       "[4,] 0.9230769 0.9285714 0.9333333 0.9375000"
      ]
     },
     "metadata": {},
     "output_type": "display_data"
    },
    {
     "data": {
      "text/html": [
       "<style>\n",
       ".list-inline {list-style: none; margin:0; padding: 0}\n",
       ".list-inline>li {display: inline-block}\n",
       ".list-inline>li:not(:last-child)::after {content: \"\\00b7\"; padding: 0 .5ex}\n",
       "</style>\n",
       "<ol class=list-inline><li>0</li><li>0.833333333333333</li><li>0.909090909090909</li><li>0.9375</li></ol>\n"
      ],
      "text/latex": [
       "\\begin{enumerate*}\n",
       "\\item 0\n",
       "\\item 0.833333333333333\n",
       "\\item 0.909090909090909\n",
       "\\item 0.9375\n",
       "\\end{enumerate*}\n"
      ],
      "text/markdown": [
       "1. 0\n",
       "2. 0.833333333333333\n",
       "3. 0.909090909090909\n",
       "4. 0.9375\n",
       "\n",
       "\n"
      ],
      "text/plain": [
       "[1] 0.0000000 0.8333333 0.9090909 0.9375000"
      ]
     },
     "metadata": {},
     "output_type": "display_data"
    }
   ],
   "source": [
    "x <- matrix(0:15, nrow=4)\n",
    "y <- matrix(1:16, nrow=4)\n",
    "\n",
    "# x + y\n",
    "x + y\n",
    "\n",
    "# x - y\n",
    "x - y\n",
    "\n",
    "# x * y\n",
    "x * y \n",
    "\n",
    "# x %*% y\n",
    "x %*% y\n",
    "\n",
    "# Inverse of y\n",
    "library(MASS)\n",
    "ginv(y)\n",
    "\n",
    "# z <- x / y\n",
    "z <- x / y\n",
    "z\n",
    "\n",
    "# Transpose of z\n",
    "t <- t(z)\n",
    "t\n",
    "\n",
    "# Diagonal of Transpose Matrix\n",
    "diag(t)"
   ]
  },
  {
   "cell_type": "markdown",
   "metadata": {},
   "source": [
    "5. Difference between (i) & (ii) \n",
    "(i). x<-matrix(x<-1:9,3,3,byrow = TRUE) (ii). x<-matrix(x<-1:9,3,3) \n",
    "(i) is created by filling the value from vector by row first\n",
    "(ii) is created by filling the value from vector by col first"
   ]
  },
  {
   "cell_type": "markdown",
   "metadata": {},
   "source": [
    "6. Which function can we use for inner product and outer product in matrix calculation? \n",
    "-> The function that we can use for inner product is %*%.\n",
    "-> The function that we can use for outer product is %o%."
   ]
  },
  {
   "cell_type": "markdown",
   "metadata": {},
   "source": [
    "7. Explain the use of all.equal() function in Matrix with a sample program. \n",
    "-> The use of all.equal() function is to compare whether 2 matrices are equal or nearly equal or not, and it will return the mean of the differences."
   ]
  },
  {
   "cell_type": "code",
   "execution_count": 6,
   "metadata": {},
   "outputs": [
    {
     "data": {
      "text/html": [
       "'Mean relative difference: 0.1333333'"
      ],
      "text/latex": [
       "'Mean relative difference: 0.1333333'"
      ],
      "text/markdown": [
       "'Mean relative difference: 0.1333333'"
      ],
      "text/plain": [
       "[1] \"Mean relative difference: 0.1333333\""
      ]
     },
     "metadata": {},
     "output_type": "display_data"
    }
   ],
   "source": [
    "x <- matrix(0:15, nrow=4)\n",
    "y <- matrix(1:16, nrow=4)\n",
    "all.equal(x,y)"
   ]
  },
  {
   "cell_type": "markdown",
   "metadata": {},
   "source": [
    "8. Explain the use of dim() function with a sample program. \n",
    "-> The use of dim() function is to find the dimension of a matrix. It will return 2 integer, the first integer is the row, and the second integer is the column."
   ]
  },
  {
   "cell_type": "code",
   "execution_count": 7,
   "metadata": {},
   "outputs": [
    {
     "data": {
      "text/html": [
       "<style>\n",
       ".list-inline {list-style: none; margin:0; padding: 0}\n",
       ".list-inline>li {display: inline-block}\n",
       ".list-inline>li:not(:last-child)::after {content: \"\\00b7\"; padding: 0 .5ex}\n",
       "</style>\n",
       "<ol class=list-inline><li>4</li><li>4</li></ol>\n"
      ],
      "text/latex": [
       "\\begin{enumerate*}\n",
       "\\item 4\n",
       "\\item 4\n",
       "\\end{enumerate*}\n"
      ],
      "text/markdown": [
       "1. 4\n",
       "2. 4\n",
       "\n",
       "\n"
      ],
      "text/plain": [
       "[1] 4 4"
      ]
     },
     "metadata": {},
     "output_type": "display_data"
    }
   ],
   "source": [
    "x <- matrix(0:15, nrow=4)\n",
    "dim(x)"
   ]
  },
  {
   "cell_type": "markdown",
   "metadata": {},
   "source": [
    "9. Use of $ operator, and square brackets [] in List with example program. \n",
    "-> The use of $ operator is to access the element in a list by using name.\n",
    "-> The use of [] operator is to access the element in a list by using index."
   ]
  },
  {
   "cell_type": "code",
   "execution_count": 9,
   "metadata": {},
   "outputs": [
    {
     "data": {
      "text/html": [
       "'KIT'"
      ],
      "text/latex": [
       "'KIT'"
      ],
      "text/markdown": [
       "'KIT'"
      ],
      "text/plain": [
       "[1] \"KIT\""
      ]
     },
     "metadata": {},
     "output_type": "display_data"
    },
    {
     "data": {
      "text/html": [
       "<strong>$major</strong> = 'Software Engineering'"
      ],
      "text/latex": [
       "\\textbf{\\$major} = 'Software Engineering'"
      ],
      "text/markdown": [
       "**$major** = 'Software Engineering'"
      ],
      "text/plain": [
       "$major\n",
       "[1] \"Software Engineering\"\n"
      ]
     },
     "metadata": {},
     "output_type": "display_data"
    }
   ],
   "source": [
    "a <- list(school=\"KIT\", major=\"Software Engineering\", year=4, batch=4)\n",
    "a$school\n",
    "a[2]"
   ]
  },
  {
   "cell_type": "markdown",
   "metadata": {},
   "source": [
    "10. Explain ifelse() with example. \n",
    "->ifelse() is used to check whether a statement is true or false based on the given condition, and perform any operation accordingly."
   ]
  },
  {
   "cell_type": "code",
   "execution_count": 10,
   "metadata": {},
   "outputs": [
    {
     "data": {
      "text/html": [
       "'even'"
      ],
      "text/latex": [
       "'even'"
      ],
      "text/markdown": [
       "'even'"
      ],
      "text/plain": [
       "[1] \"even\""
      ]
     },
     "metadata": {},
     "output_type": "display_data"
    }
   ],
   "source": [
    "num <- 2\n",
    "ifelse(num %% 2 == 0, \"even\", \"odd\")"
   ]
  },
  {
   "cell_type": "markdown",
   "metadata": {},
   "source": [
    "11. Write a program to get the weight and height from the user to calculate the following cases a. If your BMI is less than 18.5, it falls within the underweight range. \n",
    "b. If your BMI is 18.5 to <25, it falls within the normal. \n",
    "c. If your BMI is 25.0 to <30, it falls within the overweight range. \n",
    "d. If your BMI is 30.0 or higher, it falls within the obese range. "
   ]
  },
  {
   "cell_type": "code",
   "execution_count": 11,
   "metadata": {},
   "outputs": [
    {
     "name": "stdout",
     "output_type": "stream",
     "text": [
      "Enter weight(kg): 61\n",
      "Enter height(m): 1.73\n"
     ]
    },
    {
     "data": {
      "text/html": [
       "'normal'"
      ],
      "text/latex": [
       "'normal'"
      ],
      "text/markdown": [
       "'normal'"
      ],
      "text/plain": [
       "[1] \"normal\""
      ]
     },
     "metadata": {},
     "output_type": "display_data"
    }
   ],
   "source": [
    "weight <- as.numeric(readline(prompt=\"Enter weight(kg): \"))\n",
    "height <- as.numeric(readline(prompt=\"Enter height(m): \"))\n",
    "bmi <- weight/(height^2)\n",
    "if(bmi<18.5){\n",
    "    \"underweight\"\n",
    "}else if (bmi<25) {\n",
    "    \"normal\"\n",
    "}else if (bmi<30) {\n",
    "    \"overweight\"\n",
    "}else{\n",
    "    \"obese\"\n",
    "}"
   ]
  },
  {
   "cell_type": "markdown",
   "metadata": {},
   "source": [
    "12. Difference between List and Data frame with an example program. \n",
    "-> List accepts element of same or different data types and is stored in sequence.\n",
    "-> Data frame is the list of same or different data types that is stored in the form of rows and columns"
   ]
  },
  {
   "cell_type": "code",
   "execution_count": 12,
   "metadata": {},
   "outputs": [
    {
     "data": {
      "text/html": [
       "<ol>\n",
       "\t<li>1</li>\n",
       "\t<li>'Song Sokha Vudthi'</li>\n",
       "\t<li>'Student'</li>\n",
       "\t<li>'Accounting'</li>\n",
       "\t<li>TRUE</li>\n",
       "</ol>\n"
      ],
      "text/latex": [
       "\\begin{enumerate}\n",
       "\\item 1\n",
       "\\item 'Song Sokha Vudthi'\n",
       "\\item 'Student'\n",
       "\\item 'Accounting'\n",
       "\\item TRUE\n",
       "\\end{enumerate}\n"
      ],
      "text/markdown": [
       "1. 1\n",
       "2. 'Song Sokha Vudthi'\n",
       "3. 'Student'\n",
       "4. 'Accounting'\n",
       "5. TRUE\n",
       "\n",
       "\n"
      ],
      "text/plain": [
       "[[1]]\n",
       "[1] 1\n",
       "\n",
       "[[2]]\n",
       "[1] \"Song Sokha Vudthi\"\n",
       "\n",
       "[[3]]\n",
       "[1] \"Student\"\n",
       "\n",
       "[[4]]\n",
       "[1] \"Accounting\"\n",
       "\n",
       "[[5]]\n",
       "[1] TRUE\n"
      ]
     },
     "metadata": {},
     "output_type": "display_data"
    },
    {
     "data": {
      "text/html": [
       "<table>\n",
       "<caption>A data.frame: 4 × 2</caption>\n",
       "<thead>\n",
       "\t<tr><th scope=col>Batch</th><th scope=col>Year</th></tr>\n",
       "\t<tr><th scope=col>&lt;dbl&gt;</th><th scope=col>&lt;dbl&gt;</th></tr>\n",
       "</thead>\n",
       "<tbody>\n",
       "\t<tr><td>1</td><td>4</td></tr>\n",
       "\t<tr><td>2</td><td>3</td></tr>\n",
       "\t<tr><td>3</td><td>2</td></tr>\n",
       "\t<tr><td>4</td><td>1</td></tr>\n",
       "</tbody>\n",
       "</table>\n"
      ],
      "text/latex": [
       "A data.frame: 4 × 2\n",
       "\\begin{tabular}{ll}\n",
       " Batch & Year\\\\\n",
       " <dbl> & <dbl>\\\\\n",
       "\\hline\n",
       "\t 1 & 4\\\\\n",
       "\t 2 & 3\\\\\n",
       "\t 3 & 2\\\\\n",
       "\t 4 & 1\\\\\n",
       "\\end{tabular}\n"
      ],
      "text/markdown": [
       "\n",
       "A data.frame: 4 × 2\n",
       "\n",
       "| Batch &lt;dbl&gt; | Year &lt;dbl&gt; |\n",
       "|---|---|\n",
       "| 1 | 4 |\n",
       "| 2 | 3 |\n",
       "| 3 | 2 |\n",
       "| 4 | 1 |\n",
       "\n"
      ],
      "text/plain": [
       "  Batch Year\n",
       "1 1     4   \n",
       "2 2     3   \n",
       "3 3     2   \n",
       "4 4     1   "
      ]
     },
     "metadata": {},
     "output_type": "display_data"
    }
   ],
   "source": [
    "# List\n",
    "list(1, \"Song Sokha Vudthi\", \"Student\", \"Accounting\", TRUE)\n",
    "\n",
    "# Data Frame\n",
    "batch <- c( 1, 2, 3, 4)\n",
    "year <- c( 4, 3, 2, 1)\n",
    "data.frame(Batch = batch, Year = year)"
   ]
  },
  {
   "cell_type": "markdown",
   "metadata": {},
   "source": [
    "13. Difference between repeat and while loop with example program. \n",
    "-> Repeat requires you to explicitly break the loop by yourself, can be at any point in the loop.\n",
    "-> While will break the loop when the condition is no longer true."
   ]
  },
  {
   "cell_type": "code",
   "execution_count": 14,
   "metadata": {},
   "outputs": [
    {
     "data": {
      "text/html": [
       "'Repeat'"
      ],
      "text/latex": [
       "'Repeat'"
      ],
      "text/markdown": [
       "'Repeat'"
      ],
      "text/plain": [
       "[1] \"Repeat\""
      ]
     },
     "metadata": {},
     "output_type": "display_data"
    },
    {
     "name": "stdout",
     "output_type": "stream",
     "text": [
      "[1] 5\n",
      "[1] 4\n",
      "[1] 3\n",
      "[1] 2\n",
      "[1] 1\n"
     ]
    },
    {
     "data": {
      "text/html": [
       "'While'"
      ],
      "text/latex": [
       "'While'"
      ],
      "text/markdown": [
       "'While'"
      ],
      "text/plain": [
       "[1] \"While\""
      ]
     },
     "metadata": {},
     "output_type": "display_data"
    },
    {
     "name": "stdout",
     "output_type": "stream",
     "text": [
      "[1] 5\n",
      "[1] 4\n"
     ]
    }
   ],
   "source": [
    "\"Repeat\"\n",
    "i <- 5\n",
    "repeat {if (i==0) break; print(i);i<-i-1}\n",
    "\n",
    "\"While\"\n",
    "i <- 5\n",
    "while (i!=3) {print(i);i<-i-1}"
   ]
  }
 ],
 "metadata": {
  "kernelspec": {
   "display_name": "R",
   "language": "R",
   "name": "ir"
  },
  "language_info": {
   "codemirror_mode": "r",
   "file_extension": ".r",
   "mimetype": "text/x-r-source",
   "name": "R",
   "pygments_lexer": "r",
   "version": "4.0.3"
  }
 },
 "nbformat": 4,
 "nbformat_minor": 4
}
